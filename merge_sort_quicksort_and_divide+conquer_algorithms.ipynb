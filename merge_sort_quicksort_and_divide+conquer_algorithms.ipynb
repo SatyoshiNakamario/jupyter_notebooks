{
 "cells": [
  {
   "cell_type": "markdown",
   "metadata": {},
   "source": [
    "# Bubble Sort, Merge Sort, Quicksort and Divide-n-Conquer Algorithms in Python\n",
    "\n",
    "Let's check out our problem from lesson 3 of the Jovian course:"
   ]
  },
  {
   "cell_type": "markdown",
   "metadata": {},
   "source": [
    "## Problem \n",
    "\n",
    "\n",
    "In this notebook, we'll focus on solving the following problem:\n",
    "\n",
    "> **QUESTION 1**: You're working on a new feature on Jovian called \"Top Notebooks of the Week\". Write a function to sort a list of notebooks in decreasing order of likes. Keep in mind that up to millions of notebooks  can be created every week, so your function needs to be as efficient as possible.\n",
    "\n",
    "\n",
    "The problem of sorting a list of objects comes up over and over in computer science and software development, and it's important to understand common approaches for sorting, and the trade-offs they offer. Before we solve the above problem, we'll solve a simplified version of the problem:\n",
    "\n",
    "> **QUESTION 2**: Write a program to sort a list of numbers.\n",
    "\n",
    "\n",
    "\"Sorting\" usually refers to \"sorting in ascending order\", unless specified otherwise."
   ]
  },
  {
   "cell_type": "markdown",
   "metadata": {},
   "source": [
    "Remember our method of attack:\n",
    "\n",
    "1. State the problem clearly, in your own words. Identify the input and output.\n",
    "2. Come up with some examples for test cases using the inputs and outputs. Cover your edge cases.\n",
    "3. Find a simple solution to the problem in English (or whatever language you prefer).\n",
    "4. Impliment your solution and test it with the example inputs. Squash your bugs.\n",
    "5. Analyze your algorithms' time and space complexity. \n",
    "6. Optimize your code for any inefficiencies."
   ]
  },
  {
   "cell_type": "markdown",
   "metadata": {},
   "source": [
    "Sorting solutions are essential to solving common problems in computer science.\n",
    "\n",
    "Generally, we'll have inputs and outputs like these:\n",
    "\n",
    "Input\n",
    "nums: A list of numbers e.g. [4, 2, 6, 3, 4, 6, 2, 1]\n",
    "Output\n",
    "sorted_nums: The sorted version of nums e.g. [1, 2, 2, 3, 4, 4, 6, 6]\n",
    "\n",
    "Here are some cases that we need to test:\n",
    "\n",
    "1. Lists of nummbers in random orders.\n",
    "2. Lists that have been sorted.\n",
    "3. Lists sorted in descending order.\n",
    "4. Lists with repeating elements.\n",
    "5. Empty lists.\n",
    "6. Lists with one element.\n",
    "7. Lists with one element that is repeated many times.\n",
    "8. Long lists."
   ]
  },
  {
   "cell_type": "code",
   "execution_count": 64,
   "metadata": {},
   "outputs": [],
   "source": [
    "def sort(nums):\n",
    "    pass"
   ]
  },
  {
   "cell_type": "code",
   "execution_count": 65,
   "metadata": {},
   "outputs": [],
   "source": [
    "#Random list with no repeated elements\n",
    "test0 = {\n",
    "    'input': {\n",
    "        'nums': [4, 6, 3, 8, 5, 7, 2, 1]\n",
    "    },\n",
    "    'output': [1, 2, 3, 4, 5, 6, 7, 8]\n",
    "}"
   ]
  },
  {
   "cell_type": "code",
   "execution_count": 66,
   "metadata": {},
   "outputs": [],
   "source": [
    "# Random list with negative elements\n",
    "test1 = {\n",
    "    'input': {\n",
    "        'nums': [5, 2, 6, 1, 23, 7, -12, 12, -243, 0]\n",
    "    },\n",
    "    'output': [-243, -12, 0, 1, 2, 5, 6, 7, 12, 23]\n",
    "}"
   ]
  },
  {
   "cell_type": "code",
   "execution_count": 67,
   "metadata": {},
   "outputs": [],
   "source": [
    "# Sorted list\n",
    "test2 = {\n",
    "    'input': {\n",
    "        'nums': [3, 5, 6, 8, 9, 10, 99]\n",
    "    },\n",
    "    'output': [3, 5, 6, 8, 9, 10, 99]\n",
    "}"
   ]
  },
  {
   "cell_type": "code",
   "execution_count": 68,
   "metadata": {},
   "outputs": [],
   "source": [
    "# Descending order lists\n",
    "test3 = {\n",
    "    'input': {\n",
    "        'nums': [99, 10, 9, 8, 6, 5, 3]\n",
    "    },\n",
    "    'output': [3, 5, 6, 8, 9, 10, 99]\n",
    "}"
   ]
  },
  {
   "cell_type": "code",
   "execution_count": 69,
   "metadata": {},
   "outputs": [],
   "source": [
    "# Random list with repeating elements\n",
    "test4 = {\n",
    "    'input': {\n",
    "        'nums': [5, -12, 2, 6, 1, 23, 7, 7, -12, 6, 12, 1, -243, 1, 0]\n",
    "    },\n",
    "    'output': [-243, -12, -12, 0, 1, 1, 1, 2, 5, 6, 6, 7, 7, 12, 23]\n",
    "}"
   ]
  },
  {
   "cell_type": "code",
   "execution_count": 70,
   "metadata": {},
   "outputs": [],
   "source": [
    "#Empty list\n",
    "test5 = {\n",
    "    'input': {\n",
    "        'nums': []\n",
    "    },\n",
    "    'output' : []\n",
    "}"
   ]
  },
  {
   "cell_type": "code",
   "execution_count": 71,
   "metadata": {},
   "outputs": [],
   "source": [
    "#List with one element\n",
    "test6 = {\n",
    "    'input': {\n",
    "        'nums': [23]\n",
    "    },\n",
    "    'output': [23]\n",
    "}"
   ]
  },
  {
   "cell_type": "code",
   "execution_count": 72,
   "metadata": {},
   "outputs": [],
   "source": [
    "#List with one element and many repeats\n",
    "test7 = {\n",
    "    'input': {\n",
    "        'nums' : [23, 23, 23, 23, 23, 23, 23, 23, 23, 23, 23]\n",
    "    },\n",
    "    'output': [23, 23, 23, 23, 23, 23, 23, 23, 23, 23, 23]\n",
    "}\n"
   ]
  },
  {
   "cell_type": "code",
   "execution_count": 73,
   "metadata": {},
   "outputs": [],
   "source": [
    "#Really long lists\n",
    "#Use helper methods from random like here, so you don't have to do this manually:\n",
    "import random\n",
    "\n",
    "in_list = list(range(10000))\n",
    "out_list = list(range(10000))\n",
    "\n",
    "random.shuffle(in_list)\n",
    "\n",
    "test8 = {\n",
    "    'input':{\n",
    "        'nums': in_list\n",
    "    },\n",
    "    'output': out_list\n",
    "\n",
    "}"
   ]
  },
  {
   "cell_type": "code",
   "execution_count": 74,
   "metadata": {},
   "outputs": [],
   "source": [
    "tests = [test0, test1, test2, test3, test4, test5, test6, test7, test8]"
   ]
  },
  {
   "cell_type": "markdown",
   "metadata": {},
   "source": [
    "First, we should come up with a simple solution in English.\n",
    "\n",
    "1. Iterate over a given list.\n",
    "2. Compare one number with the next.\n",
    "3. Swap the first number with the second if the value is greater.\n",
    "4. Repeat steps 1-3 until the list is sorted.\n",
    "\n",
    "Time complexity: we will repeat the first three steps up to n-1 times, because largest number in the list will become the final element at worst when iterating through every other element.\n",
    "\n",
    "Bubble sort: this method is called bubble sort, because the larger elements bubble to the top while the others sink to the bottom.\n",
    "\n",
    "See the following for a visual representation:\n",
    "\n",
    "![](https://upload.wikimedia.org/wikipedia/commons/c/c8/Bubble-sort-example-300px.gif)\n",
    "\n",
    "Next, we will impliment a solution."
   ]
  },
  {
   "cell_type": "code",
   "execution_count": 75,
   "metadata": {},
   "outputs": [],
   "source": [
    "def bubble_sort(nums):\n",
    "    \n",
    "    #copy list\n",
    "    nums = list(nums)\n",
    "\n",
    "    #iterate n-1 times\n",
    "    for _ in range(len(nums) - 1):\n",
    "\n",
    "        #for each element in the array except the last\n",
    "        for i in range(len(nums) - 1):\n",
    "\n",
    "            #compare one number to the next number:\n",
    "            if nums[i] > nums[i + 1]:\n",
    "\n",
    "                #Swap the numbers. (We can do both at once, because Python is awesome.)\n",
    "                nums[i], nums[i + 1] = nums[i + 1], nums[i]\n",
    "\n",
    "    #return the sorted list\n",
    "    return nums"
   ]
  },
  {
   "cell_type": "markdown",
   "metadata": {},
   "source": [
    "Testing, attention please:"
   ]
  },
  {
   "cell_type": "code",
   "execution_count": 76,
   "metadata": {},
   "outputs": [
    {
     "name": "stdout",
     "output_type": "stream",
     "text": [
      "Input: [4, 6, 3, 8, 5, 7, 2, 1]\n",
      "Expected output: [1, 2, 3, 4, 5, 6, 7, 8]\n",
      "Actual output: [1, 2, 3, 4, 5, 6, 7, 8]\n",
      "Match: True\n"
     ]
    }
   ],
   "source": [
    "nums0, output0 = test0['input']['nums'], test0['output']\n",
    "\n",
    "print('Input:', nums0)\n",
    "print('Expected output:', output0)\n",
    "result0 = bubble_sort(nums0)\n",
    "print('Actual output:', result0)\n",
    "print('Match:', result0 == output0)"
   ]
  },
  {
   "cell_type": "markdown",
   "metadata": {},
   "source": [
    "Let's think about time complexity.\n",
    "\n",
    "We have two loops in bubble sort. \n",
    "\n",
    "Each of them iterate through our list up to n-1 times. \n",
    "\n",
    "Therefore, the worst case scenario would result in (n-1)*(n-1) iterations through our list.\n",
    "\n",
    "(n-1)*(n-1) = n^2 - 2n + 1\n",
    "\n",
    "Remember, we drop our constants and are left with an exponential space complexity where the highest power is n^2, or O(N^2). This is also called quadratic complexity.\n",
    "\n",
    "What about space complexity?\n",
    "\n",
    "Although our list only requires a constant space, we do need to initially consider the numbers in our list. Therefore, the space complexity depends on the amount of nums and results in O(N) space complexity.\n",
    "\n",
    "Where is the inefficiency?\n",
    "\n",
    "Large lists require an exponential amount of time compared to more efficient algorithms, because only two elements are being compared and shifted one position at a time. \n",
    "\n",
    "Let's look at another algorithm of the same complexity, and improve our efficiency after that.\n",
    "\n"
   ]
  },
  {
   "cell_type": "code",
   "execution_count": 77,
   "metadata": {},
   "outputs": [],
   "source": [
    "def insertion_sort(nums):\n",
    "    nums = list(nums)\n",
    "    for i in range(len(nums)):\n",
    "        cur = nums.pop(i)\n",
    "        j = i-1\n",
    "        while j >=0 and nums[j] > cur:\n",
    "            j -= 1\n",
    "        nums.insert(j+1, cur)\n",
    "    return nums            "
   ]
  },
  {
   "cell_type": "code",
   "execution_count": 78,
   "metadata": {},
   "outputs": [
    {
     "name": "stdout",
     "output_type": "stream",
     "text": [
      "input [4, 6, 3, 8, 5, 7, 2, 1]\n",
      "expected output [1, 2, 3, 4, 5, 6, 7, 8]\n",
      "Actual output [1, 2, 3, 4, 5, 6, 7, 8]\n",
      "Do we have a match?: True\n"
     ]
    }
   ],
   "source": [
    "nums0, output0 = test0['input']['nums'], test0 ['output']\n",
    "\n",
    "print('input', nums0)\n",
    "print('expected output', output0)\n",
    "result0 = insertion_sort(nums0)\n",
    "print('Actual output', result0)\n",
    "print('Do we have a match?:', result0 == output0 )"
   ]
  },
  {
   "cell_type": "markdown",
   "metadata": {},
   "source": [
    "Let's make these algorithms more efficient by dividing and conquering.\n",
    "\n",
    "1. Divide the inputs into two roughly equal parts.\n",
    "2. Recursively solve the two problems individually for each of the parts.\n",
    "3. Combine the results to solve the problem for the original inputs.\n",
    "4. Include terminating conditions for small or indivisible inputs.\n",
    "\n",
    "Here's a visual representation of the strategy:\n",
    "\n",
    "![](https://www.educative.io/api/edpresso/shot/5327356208087040/image/6475288173084672)\n",
    "\n",
    "This strategy is known as\n",
    "\n",
    "### Merge Sort\n",
    "\n",
    "Here's an example:\n",
    "\n",
    "\n",
    "<img src=\"https://upload.wikimedia.org/wikipedia/commons/thumb/e/e6/Merge_sort_algorithm_diagram.svg/2560px-Merge_sort_algorithm_diagram.svg.png\" width=\"480\">\n",
    "\n"
   ]
  },
  {
   "cell_type": "markdown",
   "metadata": {},
   "source": [
    "Roughly, the idea follows these steps:\n",
    "\n",
    "1. If the input is empty or has one element, it is sorted. Return it.\n",
    "2. If not sorted, divide the list of numbers into two equal parts.\n",
    "3. Sort each part recursively using the Merge sort algorithm.\n",
    "4. Merge the two sorted list into one bigger list.\n",
    "\n",
    "Here's a visual representation: https://youtu.be/GW0USDwhBgo?t=28\n"
   ]
  },
  {
   "cell_type": "code",
   "execution_count": 79,
   "metadata": {},
   "outputs": [
    {
     "data": {
      "text/html": [
       "\n",
       "        <iframe\n",
       "            width=\"600\"\n",
       "            height=\"300\"\n",
       "            src=\"https://www.youtube.com/embed/GW0USDwhBgo&t=28s\"\n",
       "            frameborder=\"0\"\n",
       "            allowfullscreen\n",
       "            \n",
       "        ></iframe>\n",
       "        "
      ],
      "text/plain": [
       "<IPython.lib.display.YouTubeVideo at 0x11293d930>"
      ]
     },
     "execution_count": 79,
     "metadata": {},
     "output_type": "execute_result"
    }
   ],
   "source": [
    "#Here's how to run the video in our notebook:\n",
    "\n",
    "from IPython.display import Audio,Image, YouTubeVideo\n",
    "\n",
    "YouTubeVideo('GW0USDwhBgo&t=28s',width=600,height=300)"
   ]
  },
  {
   "cell_type": "code",
   "execution_count": 80,
   "metadata": {},
   "outputs": [],
   "source": [
    "#Impliment Merge Sort like this\n",
    "\n",
    "def merge_sort(nums):\n",
    "    if len(nums)<= 1:\n",
    "        return nums\n",
    "\n",
    "    #Get the midpoint\n",
    "    mid = len(nums)//2\n",
    "\n",
    "    #Split the list in half\n",
    "    left = nums[:mid]\n",
    "    right = nums[mid:]\n",
    "\n",
    "    #Recursively solve each half\n",
    "    left_sorted, right_sorted = merge_sort(left), merge_sort(right)\n",
    "\n",
    "    #Combine each half\n",
    "    sorted_nums = merge(left_sorted, right_sorted)\n",
    "\n",
    "    return sorted_nums\n"
   ]
  },
  {
   "cell_type": "markdown",
   "metadata": {},
   "source": [
    "Our code will not work until we define the merge function in merge_sort. Let's do that after we visualize the merge operation:\n",
    "\n",
    "<img src=\"https://i.imgur.com/XeEpa0U.png\" width=\"480\">\n",
    "\n"
   ]
  },
  {
   "cell_type": "code",
   "execution_count": 81,
   "metadata": {},
   "outputs": [],
   "source": [
    "def merge(nums1, nums2):\n",
    "    #list to sort the two halves\n",
    "    merged= []\n",
    "\n",
    "    #create two indices for iteration\n",
    "    i, j = 0, 0\n",
    "\n",
    "    #Loop\n",
    "    while i < len(nums1) and j < len(nums2):\n",
    "\n",
    "        #include the smaller element in the list and move to the next element\n",
    "\n",
    "        if nums1[i] <= nums2[j]:\n",
    "            merged.append(nums1[i])\n",
    "            i+=1\n",
    "        else:\n",
    "            merged.append(nums2[j])\n",
    "            j+=1\n",
    "    nums1_tail = nums1[i:]\n",
    "    nums2_tail = nums2[j:]\n",
    "\n",
    "    #return the merged array\n",
    "    return merged + nums1_tail + nums2_tail"
   ]
  },
  {
   "cell_type": "markdown",
   "metadata": {},
   "source": [
    "\"Testing, attention please\" - Eminem, probably"
   ]
  },
  {
   "cell_type": "code",
   "execution_count": 82,
   "metadata": {},
   "outputs": [
    {
     "data": {
      "text/plain": [
       "[-1, 0, 1, 2, 3, 4, 7, 8, 9, 11, 12]"
      ]
     },
     "execution_count": 82,
     "metadata": {},
     "output_type": "execute_result"
    }
   ],
   "source": [
    "merge([1, 4, 7, 9, 11], [-1, 0, 2, 3, 8, 12])"
   ]
  },
  {
   "cell_type": "markdown",
   "metadata": {},
   "source": [
    "Yay, it works. Now let's test the merge_sort function"
   ]
  },
  {
   "cell_type": "code",
   "execution_count": 83,
   "metadata": {},
   "outputs": [
    {
     "name": "stdout",
     "output_type": "stream",
     "text": [
      "Input: [4, 6, 3, 8, 5, 7, 2, 1]\n",
      "Expected output: [1, 2, 3, 4, 5, 6, 7, 8]\n",
      "Actual output: [1, 2, 3, 4, 5, 6, 7, 8]\n",
      "Match: True\n"
     ]
    }
   ],
   "source": [
    "nums0, output0 = test0['input']['nums'], test0['output']\n",
    "\n",
    "print('Input:', nums0)\n",
    "print('Expected output:', output0)\n",
    "result0 = merge_sort(nums0)\n",
    "print('Actual output:', result0)\n",
    "print('Match:', result0 == output0)"
   ]
  },
  {
   "cell_type": "markdown",
   "metadata": {},
   "source": [
    "Tricky analysis of recursive Merge sort.\n",
    "\n",
    "Track the chain of depth in a recursive call, and add print statements to see the calls to merge sort. "
   ]
  },
  {
   "cell_type": "code",
   "execution_count": 84,
   "metadata": {},
   "outputs": [],
   "source": [
    "def merge(nums1, nums2, depth=0):\n",
    "    print('  '*depth, 'merge:', nums1, nums2)\n",
    "    i, j, merged = 0, 0, []\n",
    "    while i < len(nums1) and j < len(nums2):\n",
    "        if nums1[i] <= nums2[j]:\n",
    "            merged.append(nums1[i])\n",
    "            i += 1\n",
    "        else:\n",
    "            merged.append(nums2[j])\n",
    "            j += 1\n",
    "    return merged + nums1[i:] + nums2[j:]\n",
    "        \n",
    "def merge_sort(nums, depth=0):\n",
    "    print('  '*depth, 'merge_sort:', nums)\n",
    "    if len(nums) < 2: \n",
    "        return nums\n",
    "    mid = len(nums) // 2\n",
    "    return merge(merge_sort(nums[:mid], depth+1), \n",
    "                 merge_sort(nums[mid:], depth+1), \n",
    "                 depth+1)"
   ]
  },
  {
   "cell_type": "code",
   "execution_count": 85,
   "metadata": {},
   "outputs": [
    {
     "name": "stdout",
     "output_type": "stream",
     "text": [
      " merge_sort: [5, -12, 2, 6, 1, 23, 7, 7, -12]\n",
      "   merge_sort: [5, -12, 2, 6]\n",
      "     merge_sort: [5, -12]\n",
      "       merge_sort: [5]\n",
      "       merge_sort: [-12]\n",
      "       merge: [5] [-12]\n",
      "     merge_sort: [2, 6]\n",
      "       merge_sort: [2]\n",
      "       merge_sort: [6]\n",
      "       merge: [2] [6]\n",
      "     merge: [-12, 5] [2, 6]\n",
      "   merge_sort: [1, 23, 7, 7, -12]\n",
      "     merge_sort: [1, 23]\n",
      "       merge_sort: [1]\n",
      "       merge_sort: [23]\n",
      "       merge: [1] [23]\n",
      "     merge_sort: [7, 7, -12]\n",
      "       merge_sort: [7]\n",
      "       merge_sort: [7, -12]\n",
      "         merge_sort: [7]\n",
      "         merge_sort: [-12]\n",
      "         merge: [7] [-12]\n",
      "       merge: [7] [-12, 7]\n",
      "     merge: [1, 23] [-12, 7, 7]\n",
      "   merge: [-12, 2, 5, 6] [-12, 1, 7, 7, 23]\n"
     ]
    },
    {
     "data": {
      "text/plain": [
       "[-12, -12, 1, 2, 5, 6, 7, 7, 23]"
      ]
     },
     "execution_count": 85,
     "metadata": {},
     "output_type": "execute_result"
    }
   ],
   "source": [
    "merge_sort([5, -12, 2, 6, 1, 23, 7, 7, -12])"
   ]
  },
  {
   "cell_type": "markdown",
   "metadata": {},
   "source": [
    "Now we can see that Merge sort invokes itself, recursively, with each side of the array at half of the size compared to our earlier search functions. Merge Sort divides each array a series of times until the arrays of various sizes have reached sizes of 1 or 0. Merging happens after a comparison, and the numbers are appended to a new array.\n",
    "\n",
    "Execution is much faster than Bubble Sort, sorting lists of hundreds of thousands of indices effectively. However, memory allocations make this inefficient compared to the next algorithm that we'll impliment called Quick Sort.\n",
    "\n",
    "### Quick Sort\n",
    "\n",
    "1. If the list is empty or has one element, return it, because it is already sorted.\n",
    "2. Pick a random element from the list. We call this element a pivot.\n",
    "3. Partition the list based on comparing numbers in the array to the pivot, less than or equal to the pivot sorting to the left of the pivot, and the rest to the right.\n",
    "4. Call Quick Sort recursively on each of the two lists.\n",
    "\n",
    "Check out this visual representation:\n",
    "\n",
    "![](https://images.deepai.org/glossary-terms/a5228ea07c794b468efd1b7f758b9ead/Quicksort.png)\n",
    "\n"
   ]
  },
  {
   "cell_type": "code",
   "execution_count": 86,
   "metadata": {},
   "outputs": [],
   "source": [
    "def quicksort(nums, start = 0, end= None):\n",
    "    #print('quicksort', nums, start, end)\n",
    "    if end is None:\n",
    "        nums = list(nums)\n",
    "        end = len(nums) - 1\n",
    "\n",
    "    if start < end:\n",
    "        pivot = partition(nums, start, end)\n",
    "        quicksort(nums, start, pivot - 1)\n",
    "        quicksort(nums, pivot+1, end)\n",
    "\n",
    "    return nums"
   ]
  },
  {
   "cell_type": "markdown",
   "metadata": {},
   "source": [
    "Here's how the partition operation works([source](https://medium.com/basecs/pivoting-to-understand-quicksort-part-1-75178dfb9313)):\n",
    "\n",
    "<img src=\"https://i.imgur.com/Igk7Kr4.png\" width=\"420\">\n",
    "\n",
    "\n",
    "We need to write an implementation of partition before we can run our Quicksort function:"
   ]
  },
  {
   "cell_type": "code",
   "execution_count": 99,
   "metadata": {},
   "outputs": [],
   "source": [
    "def partition(nums, start=0, end=None):\n",
    "    if end is None:\n",
    "        end = len(nums) - 1\n",
    "    \n",
    "    #initialize right and left pointers\n",
    "    l, r = start, end-1\n",
    "\n",
    "    #iterate until they come together\n",
    "    while r > l:\n",
    "        #print('  ', nums, l, r)\n",
    "        #incriment left if number is less or equal to the pivot\n",
    "        if nums[l] <= nums[end]:\n",
    "            l += 1\n",
    "\n",
    "         #decrement right if the number is greater than the pivot\n",
    "        elif nums[r] > nums[end]:\n",
    "            r -= 1\n",
    "\n",
    "        #swap out-of-place elements\n",
    "        else:\n",
    "            nums[l], nums[r] = nums[r], nums[l]\n",
    "    # print('  ', nums, l, r)\n",
    "    # Place the pivot between the two parts\n",
    "    if nums[l] > nums[end]:\n",
    "        nums[l], nums[end] = nums[end], nums[l]\n",
    "        return l\n",
    "    else:\n",
    "        return end\n"
   ]
  },
  {
   "cell_type": "markdown",
   "metadata": {},
   "source": [
    "And away we go:"
   ]
  },
  {
   "cell_type": "code",
   "execution_count": 97,
   "metadata": {},
   "outputs": [
    {
     "name": "stdout",
     "output_type": "stream",
     "text": [
      "[1, 0, 2, 3, 5, 11, 6] 1\n"
     ]
    }
   ],
   "source": [
    "l1 = [1, 5, 6, 2, 0, 11, 3]\n",
    "pivot = partition(l1)\n",
    "print(l1, pivot)"
   ]
  },
  {
   "cell_type": "markdown",
   "metadata": {},
   "source": [
    "Let's see Quicksort in action:"
   ]
  },
  {
   "cell_type": "code",
   "execution_count": 100,
   "metadata": {},
   "outputs": [
    {
     "name": "stdout",
     "output_type": "stream",
     "text": [
      "Input: [4, 6, 3, 8, 5, 7, 2, 1]\n",
      "Expected output: [1, 2, 3, 4, 5, 6, 7, 8]\n",
      "Actual output: [1, 2, 3, 4, 5, 6, 7, 8]\n",
      "Match: True\n"
     ]
    }
   ],
   "source": [
    "nums0, output0 = test0['input']['nums'], test0['output']\n",
    "\n",
    "print('Input:', nums0)\n",
    "print('Expected output:', output0)\n",
    "result0 = quicksort(nums0)\n",
    "print('Actual output:', result0)\n",
    "print('Match:', result0 == output0)"
   ]
  },
  {
   "cell_type": "markdown",
   "metadata": {},
   "source": [
    "There we have it! You can test for all cases using Jovian's evaluate test case function, although you will have to import it with jovian.pythondsa. This works better on the jovian.ai website "
   ]
  },
  {
   "cell_type": "markdown",
   "metadata": {},
   "source": [
    "### Quicksort Time Complexity\n",
    "\n",
    "\n",
    "Best case partitioning:\n",
    "\n",
    "<img src=\"https://i.imgur.com/DgvYvnG.png\" width=\"480\">\n",
    "\n",
    "\n",
    "If we partition the list into two nearly equal parts, then the complexity analysis is similar to that of Mergesort. Quicksort has the complexity $O(n \\log n)$. This is called the average-case complexity.\n",
    "\n",
    "\n",
    "Worst case partitioning visualization:\n",
    "\n",
    "\n",
    "<img src=\"https://cdn.kastatic.org/ka-perseus-images/7da2ac32779bef669a6f05decb62f219a9132158.png\" width=\"480\">\n",
    "\n",
    "In this case, the partition is called `n` times with lists of sizes `n`, `n-1`... so that total comparisions are $n + (n-1) + (n-2) + ... + 2 + 1 = n * (n-1) / 2$. So the worst-case complexity of quicksort is $O(n^2)$.\n",
    "\n",
    "Even with the worst case time complexity equal to $O(n^2)$, Quicksort is preferred in many situations, because its running time is closer to $O(n \\log n)$ in practice if you pick a pivot well. \n",
    "\n",
    "Here are a couple of ways to pivot:\n",
    "\n",
    "- [Picking a random pivot](https://cs.stackexchange.com/questions/7582/what-is-the-advantage-of-randomized-quicksort)\n",
    "- [Picking median of medians](https://en.wikipedia.org/wiki/Median_of_medians)\n",
    "\n"
   ]
  },
  {
   "cell_type": "markdown",
   "metadata": {},
   "source": [
    "## Custom Comparison Functions\n",
    "\n",
    "Let's return to our original problem statement now.\n",
    "\n",
    "> **QUESTION 1**: You're working on a new feature on Jovian called \"Top Notebooks of the Week\". Write a function to sort a list of notebooks in decreasing order of likes. Keep in mind that up to millions of notebooks  can be created every week, so your function needs to be as efficient as possible.\n",
    "\n",
    "We should sort objects, instead of numbers, in the descending order of likes. We can create a custom comparison function for the notebooks using our previous algorithm.\n",
    "\n",
    "Let's do that now:"
   ]
  },
  {
   "cell_type": "code",
   "execution_count": 101,
   "metadata": {},
   "outputs": [],
   "source": [
    "class Notebook:\n",
    "    def __init__(self, title, username, likes):\n",
    "        self.title, self.username, self.likes = title, username, likes\n",
    "    def __repr__(self):\n",
    "        return 'Notebook <\"{}/{}\", {} likes>'.format(self.username, self.title, self.likes)"
   ]
  },
  {
   "cell_type": "code",
   "execution_count": 102,
   "metadata": {},
   "outputs": [],
   "source": [
    "nb0 = Notebook('pytorch-basics', 'aakashns', 373)\n",
    "nb1 = Notebook('linear-regression', 'siddhant', 532)\n",
    "nb2 = Notebook('logistic-regression', 'vikas', 31)\n",
    "nb3 = Notebook('feedforward-nn', 'sonaksh', 94)\n",
    "nb4 = Notebook('cifar10-cnn', 'biraj', 2)\n",
    "nb5 = Notebook('cifar10-resnet', 'tanya', 29)\n",
    "nb6 = Notebook('anime-gans', 'hemanth', 80)\n",
    "nb7 = Notebook('python-fundamentals', 'vishal', 136)\n",
    "nb8 = Notebook('python-functions', 'aakashns', 74)\n",
    "nb9 = Notebook('python-numpy', 'siddhant', 92)"
   ]
  },
  {
   "cell_type": "code",
   "execution_count": 103,
   "metadata": {},
   "outputs": [],
   "source": [
    "notebooks = [nb0, nb1, nb2, nb3, nb4, nb5,nb6, nb7, nb8, nb9]"
   ]
  },
  {
   "cell_type": "code",
   "execution_count": 104,
   "metadata": {},
   "outputs": [
    {
     "data": {
      "text/plain": [
       "[Notebook <\"aakashns/pytorch-basics\", 373 likes>,\n",
       " Notebook <\"siddhant/linear-regression\", 532 likes>,\n",
       " Notebook <\"vikas/logistic-regression\", 31 likes>,\n",
       " Notebook <\"sonaksh/feedforward-nn\", 94 likes>,\n",
       " Notebook <\"biraj/cifar10-cnn\", 2 likes>,\n",
       " Notebook <\"tanya/cifar10-resnet\", 29 likes>,\n",
       " Notebook <\"hemanth/anime-gans\", 80 likes>,\n",
       " Notebook <\"vishal/python-fundamentals\", 136 likes>,\n",
       " Notebook <\"aakashns/python-functions\", 74 likes>,\n",
       " Notebook <\"siddhant/python-numpy\", 92 likes>]"
      ]
     },
     "execution_count": 104,
     "metadata": {},
     "output_type": "execute_result"
    }
   ],
   "source": [
    "notebooks"
   ]
  },
  {
   "cell_type": "markdown",
   "metadata": {},
   "source": [
    "Here's a custom comparator function for the notebooks"
   ]
  },
  {
   "cell_type": "code",
   "execution_count": 105,
   "metadata": {},
   "outputs": [],
   "source": [
    "def compare_likes(nb1, nb2):\n",
    "    if nb1.likes > nb2.likes:\n",
    "        return 'lesser'\n",
    "    elif nb1.likes == nb2.likes:\n",
    "        return 'equal'\n",
    "    elif nb1.likes < nb2.likes:\n",
    "        return 'greater'"
   ]
  },
  {
   "cell_type": "markdown",
   "metadata": {},
   "source": [
    "Let's impliment that with Merge sort:"
   ]
  },
  {
   "cell_type": "code",
   "execution_count": 106,
   "metadata": {},
   "outputs": [],
   "source": [
    "def default_compare(x, y):\n",
    "    if x < y:\n",
    "        return 'less'\n",
    "    elif x == y:\n",
    "        return 'equal'\n",
    "    else:\n",
    "        return 'greater'\n",
    "\n",
    "def merge_sort(objs, compare=default_compare):\n",
    "    if len(objs) < 2:\n",
    "        return objs\n",
    "    mid = len(objs) // 2\n",
    "    return merge(merge_sort(objs[:mid], compare), \n",
    "                 merge_sort(objs[mid:], compare), \n",
    "                 compare)\n",
    "\n",
    "def merge(left, right, compare):\n",
    "    i, j, merged = 0, 0, []\n",
    "    while i < len(left) and j < len(right):\n",
    "        result = compare(left[i], right[j])\n",
    "        if result == 'lesser' or result == 'equal':\n",
    "            merged.append(left[i])\n",
    "            i += 1\n",
    "        else:\n",
    "            merged.append(right[j])\n",
    "            j += 1\n",
    "    return merged + left[i:] + right[j:]"
   ]
  },
  {
   "cell_type": "code",
   "execution_count": 107,
   "metadata": {},
   "outputs": [],
   "source": [
    "sorted_notebooks = merge_sort(notebooks, compare_likes)"
   ]
  },
  {
   "cell_type": "code",
   "execution_count": 108,
   "metadata": {},
   "outputs": [
    {
     "data": {
      "text/plain": [
       "[Notebook <\"siddhant/linear-regression\", 532 likes>,\n",
       " Notebook <\"aakashns/pytorch-basics\", 373 likes>,\n",
       " Notebook <\"vishal/python-fundamentals\", 136 likes>,\n",
       " Notebook <\"sonaksh/feedforward-nn\", 94 likes>,\n",
       " Notebook <\"siddhant/python-numpy\", 92 likes>,\n",
       " Notebook <\"hemanth/anime-gans\", 80 likes>,\n",
       " Notebook <\"aakashns/python-functions\", 74 likes>,\n",
       " Notebook <\"vikas/logistic-regression\", 31 likes>,\n",
       " Notebook <\"tanya/cifar10-resnet\", 29 likes>,\n",
       " Notebook <\"biraj/cifar10-cnn\", 2 likes>]"
      ]
     },
     "execution_count": 108,
     "metadata": {},
     "output_type": "execute_result"
    }
   ],
   "source": [
    "sorted_notebooks"
   ]
  },
  {
   "cell_type": "markdown",
   "metadata": {},
   "source": [
    "We can use our merge_sort function with any comparison operation, because it is generic:"
   ]
  },
  {
   "cell_type": "code",
   "execution_count": 109,
   "metadata": {},
   "outputs": [],
   "source": [
    "def compare_titles(nb1, nb2):\n",
    "    if nb1.title < nb2.title:\n",
    "        return 'lesser'\n",
    "    elif nb1.title == nb2.title:\n",
    "        return 'equal'\n",
    "    elif nb1.title > nb2.title:\n",
    "        return 'greater'"
   ]
  },
  {
   "cell_type": "code",
   "execution_count": 110,
   "metadata": {},
   "outputs": [
    {
     "data": {
      "text/plain": [
       "[Notebook <\"hemanth/anime-gans\", 80 likes>,\n",
       " Notebook <\"biraj/cifar10-cnn\", 2 likes>,\n",
       " Notebook <\"tanya/cifar10-resnet\", 29 likes>,\n",
       " Notebook <\"sonaksh/feedforward-nn\", 94 likes>,\n",
       " Notebook <\"siddhant/linear-regression\", 532 likes>,\n",
       " Notebook <\"vikas/logistic-regression\", 31 likes>,\n",
       " Notebook <\"aakashns/python-functions\", 74 likes>,\n",
       " Notebook <\"vishal/python-fundamentals\", 136 likes>,\n",
       " Notebook <\"siddhant/python-numpy\", 92 likes>,\n",
       " Notebook <\"aakashns/pytorch-basics\", 373 likes>]"
      ]
     },
     "execution_count": 110,
     "metadata": {},
     "output_type": "execute_result"
    }
   ],
   "source": [
    "merge_sort(notebooks, compare_titles)"
   ]
  },
  {
   "cell_type": "markdown",
   "metadata": {},
   "source": [
    "## Summary and Exercises\n",
    "\n",
    "Thus concludes our exercises with the following algorithms:\n",
    "\n",
    "1. Bubble sort\n",
    "2. Insertion sort\n",
    "3. Merge sort\n",
    "4. Quick sort\n",
    "\n",
    "In the future, we will dissect more sorting algorithms and see when we should use them. Counting sort, Radix sort, Bucket sort, Comb sort, Shell sort, Pancake sort and Tim sort are all useful under various circumstances. \n",
    "\n",
    "Until then, try out some problems on sorting here:\n",
    "\n",
    "* https://leetcode.com/tag/sort/\n",
    "* https://www.techiedelight.com/sorting-interview-questions/\n",
    "* [HackerRank](https://www.hackerrank.com/domains/algorithms?filters%5Bsubdomains%5D%5B%5D=arrays-and-sorting)\n",
    "* https://leetcode.com/tag/divide-and-conquer/\n",
    "* https://www.geeksforgeeks.org/divide-and-conquer/\n",
    "\n",
    "Thanks to Jovian, and congratulations on following until the end! You really sorted this one out."
   ]
  }
 ],
 "metadata": {
  "kernelspec": {
   "display_name": "Python 3.10.6 64-bit",
   "language": "python",
   "name": "python3"
  },
  "language_info": {
   "codemirror_mode": {
    "name": "ipython",
    "version": 3
   },
   "file_extension": ".py",
   "mimetype": "text/x-python",
   "name": "python",
   "nbconvert_exporter": "python",
   "pygments_lexer": "ipython3",
   "version": "3.10.6"
  },
  "orig_nbformat": 4,
  "vscode": {
   "interpreter": {
    "hash": "aee8b7b246df8f9039afb4144a1f6fd8d2ca17a180786b69acc140d282b71a49"
   }
  }
 },
 "nbformat": 4,
 "nbformat_minor": 2
}
