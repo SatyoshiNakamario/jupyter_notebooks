{
 "cells": [
  {
   "cell_type": "markdown",
   "metadata": {},
   "source": [
    "Bubble Sort, Merge Sort, Quicksort and Divide-n-Conquer Algorithms in Python\n",
    "\n",
    "Let's check out our problem from lesson 3 of the Jovian course:"
   ]
  },
  {
   "cell_type": "markdown",
   "metadata": {},
   "source": [
    "## Problem \n",
    "\n",
    "\n",
    "In this notebook, we'll focus on solving the following problem:\n",
    "\n",
    "> **QUESTION 1**: You're working on a new feature on Jovian called \"Top Notebooks of the Week\". Write a function to sort a list of notebooks in decreasing order of likes. Keep in mind that up to millions of notebooks  can be created every week, so your function needs to be as efficient as possible.\n",
    "\n",
    "\n",
    "The problem of sorting a list of objects comes up over and over in computer science and software development, and it's important to understand common approaches for sorting, and the trade-offs they offer. Before we solve the above problem, we'll solve a simplified version of the problem:\n",
    "\n",
    "> **QUESTION 2**: Write a program to sort a list of numbers.\n",
    "\n",
    "\n",
    "\"Sorting\" usually refers to \"sorting in ascending order\", unless specified otherwise."
   ]
  },
  {
   "cell_type": "markdown",
   "metadata": {},
   "source": [
    "Remember our method of attack:\n",
    "\n",
    "1. State the problem clearly, in your own words. Identify the input and output.\n",
    "2. Come up with some examples for test cases using the inputs and outputs. Cover your edge cases.\n",
    "3. Find a simple solution to the problem in English (or whatever language you prefer).\n",
    "4. Impliment your solution and test it with the example inputs. Squash your bugs.\n",
    "5. Analyze your algorithms' time and space complexity. \n",
    "6. Optimize your code for any inefficiencies."
   ]
  },
  {
   "cell_type": "markdown",
   "metadata": {},
   "source": [
    "Sorting solutions are essential to solving common problems in computer science.\n",
    "\n",
    "Generally, we'll have inputs and outputs like these:\n",
    "\n",
    "Input\n",
    "nums: A list of numbers e.g. [4, 2, 6, 3, 4, 6, 2, 1]\n",
    "Output\n",
    "sorted_nums: The sorted version of nums e.g. [1, 2, 2, 3, 4, 4, 6, 6]\n",
    "\n",
    "Here are some cases that we need to test:\n",
    "\n",
    "1. Lists of nummbers in random orders.\n",
    "2. Lists that have been sorted.\n",
    "3. Lists sorted in descending order.\n",
    "4. Lists with repeating elements.\n",
    "5. Empty lists.\n",
    "6. Lists with one element.\n",
    "7. Lists with one element that is repeated many times.\n",
    "8. Long lists."
   ]
  },
  {
   "cell_type": "code",
   "execution_count": 1,
   "metadata": {},
   "outputs": [],
   "source": [
    "def sort(nums):\n",
    "    pass"
   ]
  },
  {
   "cell_type": "code",
   "execution_count": 26,
   "metadata": {},
   "outputs": [],
   "source": [
    "#Random list with no repeated elements\n",
    "test0 = {\n",
    "    'input': {\n",
    "        'nums': [4, 6, 3, 8, 5, 7, 2, 1]\n",
    "    },\n",
    "    'output': [1, 2, 3, 4, 5, 6, 7, 8]\n",
    "}"
   ]
  },
  {
   "cell_type": "code",
   "execution_count": 5,
   "metadata": {},
   "outputs": [],
   "source": [
    "# Random list with negative elements\n",
    "test1 = {\n",
    "    'input': {\n",
    "        'nums': [5, 2, 6, 1, 23, 7, -12, 12, -243, 0]\n",
    "    },\n",
    "    'output': [-243, -12, 0, 1, 2, 5, 6, 7, 12, 23]\n",
    "}"
   ]
  },
  {
   "cell_type": "code",
   "execution_count": 6,
   "metadata": {},
   "outputs": [],
   "source": [
    "# Sorted list\n",
    "test2 = {\n",
    "    'input': {\n",
    "        'nums': [3, 5, 6, 8, 9, 10, 99]\n",
    "    },\n",
    "    'output': [3, 5, 6, 8, 9, 10, 99]\n",
    "}"
   ]
  },
  {
   "cell_type": "code",
   "execution_count": 19,
   "metadata": {},
   "outputs": [],
   "source": [
    "# Descending order lists\n",
    "test3 = {\n",
    "    'input': {\n",
    "        'nums': [99, 10, 9, 8, 6, 5, 3]\n",
    "    },\n",
    "    'output': [3, 5, 6, 8, 9, 10, 99]\n",
    "}"
   ]
  },
  {
   "cell_type": "code",
   "execution_count": 21,
   "metadata": {},
   "outputs": [],
   "source": [
    "# Random list with repeating elements\n",
    "test4 = {\n",
    "    'input': {\n",
    "        'nums': [5, -12, 2, 6, 1, 23, 7, 7, -12, 6, 12, 1, -243, 1, 0]\n",
    "    },\n",
    "    'output': [-243, -12, -12, 0, 1, 1, 1, 2, 5, 6, 6, 7, 7, 12, 23]\n",
    "}"
   ]
  },
  {
   "cell_type": "code",
   "execution_count": 10,
   "metadata": {},
   "outputs": [],
   "source": [
    "#Empty list\n",
    "test5 = {\n",
    "    'input': {\n",
    "        'nums': []\n",
    "    },\n",
    "    'output' : []\n",
    "}"
   ]
  },
  {
   "cell_type": "code",
   "execution_count": 12,
   "metadata": {},
   "outputs": [],
   "source": [
    "#List with one element\n",
    "test6 = {\n",
    "    'input': {\n",
    "        'nums': [23]\n",
    "    },\n",
    "    'output': [23]\n",
    "}"
   ]
  },
  {
   "cell_type": "code",
   "execution_count": 17,
   "metadata": {},
   "outputs": [],
   "source": [
    "#List with one element and many repeats\n",
    "test7 = {\n",
    "    'input': {\n",
    "        'nums' : [23, 23, 23, 23, 23, 23, 23, 23, 23, 23, 23]\n",
    "    },\n",
    "    'output': [23, 23, 23, 23, 23, 23, 23, 23, 23, 23, 23]\n",
    "}\n"
   ]
  },
  {
   "cell_type": "code",
   "execution_count": 27,
   "metadata": {},
   "outputs": [],
   "source": [
    "#Really long lists\n",
    "#Use helper methods from random like here, so you don't have to do this manually:\n",
    "import random\n",
    "\n",
    "in_list = list(range(10000))\n",
    "out_list = list(range(10000))\n",
    "\n",
    "random.shuffle(in_list)\n",
    "\n",
    "test8 = {\n",
    "    'input':{\n",
    "        'nums': in_list\n",
    "    },\n",
    "    'output': out_list\n",
    "\n",
    "}"
   ]
  },
  {
   "cell_type": "code",
   "execution_count": 28,
   "metadata": {},
   "outputs": [],
   "source": [
    "tests = [test0, test1, test2, test3, test4, test5, test6, test7, test8]"
   ]
  },
  {
   "cell_type": "markdown",
   "metadata": {},
   "source": [
    "First, we should come up with a simple solution in English.\n",
    "\n",
    "1. Iterate over a given list.\n",
    "2. Compare one number with the next.\n",
    "3. Swap the first number with the second if the value is greater.\n",
    "4. Repeat steps 1-3 until the list is sorted.\n",
    "\n",
    "Time complexity: we will repeat the first three steps up to n-1 times, because largest number in the list will become the final element at worst when iterating through every other element.\n",
    "\n",
    "Bubble sort: this method is called bubble sort, because the larger elements bubble to the top while the others sink to the bottom.\n",
    "\n",
    "See the following for a visual representation:\n",
    "\n",
    "![](https://upload.wikimedia.org/wikipedia/commons/c/c8/Bubble-sort-example-300px.gif)\n",
    "\n",
    "Next, we will impliment a solution"
   ]
  },
  {
   "cell_type": "code",
   "execution_count": 29,
   "metadata": {},
   "outputs": [],
   "source": [
    "def bubble_sort(nums):\n",
    "    \n",
    "    #copy list\n",
    "    nums = list(nums)\n",
    "\n",
    "    #iterate n-1 times\n",
    "    for _ in range(len(nums) - 1):\n",
    "\n",
    "        #for each element in the array except the last\n",
    "        for i in range(len(nums) - 1):\n",
    "\n",
    "            #compare one number to the next number:\n",
    "            if nums[i] > nums[i + 1]:\n",
    "\n",
    "                #Swap the numbers. (We can do both at once, because Python is awesome.)\n",
    "                nums[i], nums[i + 1] = nums[i + 1], nums[i]\n",
    "\n",
    "    #return the sorted list\n",
    "    return nums"
   ]
  },
  {
   "cell_type": "markdown",
   "metadata": {},
   "source": [
    "Testing, attention please:"
   ]
  },
  {
   "cell_type": "code",
   "execution_count": 30,
   "metadata": {},
   "outputs": [
    {
     "name": "stdout",
     "output_type": "stream",
     "text": [
      "Input: [4, 6, 3, 8, 5, 7, 2, 1]\n",
      "Expected output: [1, 2, 3, 4, 5, 6, 7, 8]\n",
      "Actual output: [1, 2, 3, 4, 5, 6, 7, 8]\n",
      "Match: True\n"
     ]
    }
   ],
   "source": [
    "nums0, output0 = test0['input']['nums'], test0['output']\n",
    "\n",
    "print('Input:', nums0)\n",
    "print('Expected output:', output0)\n",
    "result0 = bubble_sort(nums0)\n",
    "print('Actual output:', result0)\n",
    "print('Match:', result0 == output0)"
   ]
  },
  {
   "cell_type": "markdown",
   "metadata": {},
   "source": [
    "Let's think about time complexity.\n",
    "\n",
    "We have two loops in bubble sort. \n",
    "\n",
    "Each of them iterate through our list up to n-1 times. \n",
    "\n",
    "Therefore, the worst case scenario would result in (n-1)*(n-1) iterations through our list.\n",
    "\n",
    "(n-1)*(n-1) = n^2 - 2n + 1\n",
    "\n",
    "Remember, we drop our constants and are left with an exponential space complexity where the highest power is n^2, or O(N^2). This is also called quadratic complexity.\n",
    "\n",
    "What about space complexity?\n",
    "\n",
    "Although our list only requires a constant space, we do need to initially consider the numbers in our list. Therefore, the space complexity depends on the amount of nums and results in O(N) space complexity.\n",
    "\n",
    "Where is the inefficiency?\n",
    "\n",
    "Large lists require an exponential amount of time compared to more efficient algorithms, because only two elements are being compared and shifted one position at a time. \n",
    "\n",
    "Let's look at another algorithm of the same complexity, and improve our efficiency after that.\n",
    "\n"
   ]
  },
  {
   "cell_type": "code",
   "execution_count": 31,
   "metadata": {},
   "outputs": [],
   "source": [
    "def insertion_sort(nums):\n",
    "    nums = list(nums)\n",
    "    for i in range(len(nums)):\n",
    "        cur = nums.pop(i)\n",
    "        j = i-1\n",
    "        while j >=0 and nums[j] > cur:\n",
    "            j -= 1\n",
    "        nums.insert(j+1, cur)\n",
    "    return nums            "
   ]
  },
  {
   "cell_type": "code",
   "execution_count": 33,
   "metadata": {},
   "outputs": [
    {
     "name": "stdout",
     "output_type": "stream",
     "text": [
      "input [4, 6, 3, 8, 5, 7, 2, 1]\n",
      "expected output [1, 2, 3, 4, 5, 6, 7, 8]\n",
      "Actual output [1, 2, 3, 4, 5, 6, 7, 8]\n",
      "Do we have a match?: True\n"
     ]
    }
   ],
   "source": [
    "nums0, output0 = test0['input']['nums'], test0 ['output']\n",
    "\n",
    "print('input', nums0)\n",
    "print('expected output', output0)\n",
    "result0 = insertion_sort(nums0)\n",
    "print('Actual output', result0)\n",
    "print('Do we have a match?:', result0 == output0 )"
   ]
  },
  {
   "cell_type": "markdown",
   "metadata": {},
   "source": [
    "Let's make these algorithms more efficient by dividing and conquering.\n",
    "\n",
    "1. Divide the inputs into two roughly equal parts.\n",
    "2. Recursively solve the two problems individually for each of the parts.\n",
    "3. Combine the results to solve the problem for the original inputs.\n",
    "4. Include terminating conditions for small or indivisible inputs.\n",
    "\n",
    "Here's a visual representation:\n",
    "\n",
    "\n",
    "![](https://www.educative.io/api/edpresso/shot/5327356208087040/image/6475288173084672)\n",
    "\n",
    "### Merge Sort\n",
    "\n",
    "<img src=\"https://upload.wikimedia.org/wikipedia/commons/thumb/e/e6/Merge_sort_algorithm_diagram.svg/2560px-Merge_sort_algorithm_diagram.svg.png\" width=\"480\">\n",
    "\n"
   ]
  },
  {
   "cell_type": "markdown",
   "metadata": {},
   "source": [
    "## 6. Apply the right technique to overcome the inefficiency. Repeat Steps 3 to 6.\n",
    "\n",
    "\n",
    "To performing sorting more efficiently, we'll apply a strategy called **Divide and Conquer**, which has the following general steps:\n",
    "\n",
    "1. Divide the inputs into two roughly equal parts.\n",
    "2. Recursively solve the problem individually for each of the two parts.\n",
    "3. Combine the results to solve the problem for the original inputs.\n",
    "4. Include terminating conditions for small or indivisible inputs.\n",
    "\n",
    "Here's a visual representation of the strategy:\n",
    "\n",
    "![](https://www.educative.io/api/edpresso/shot/5327356208087040/image/6475288173084672)\n",
    "\n",
    "This strategy is known as\n",
    "\n",
    "### Merge Sort\n",
    "\n",
    "Here's an example:\n",
    "\n",
    "\n",
    "<img src=\"https://upload.wikimedia.org/wikipedia/commons/thumb/e/e6/Merge_sort_algorithm_diagram.svg/2560px-Merge_sort_algorithm_diagram.svg.png\" width=\"480\">\n"
   ]
  }
 ],
 "metadata": {
  "kernelspec": {
   "display_name": "Python 3.10.6 64-bit",
   "language": "python",
   "name": "python3"
  },
  "language_info": {
   "codemirror_mode": {
    "name": "ipython",
    "version": 3
   },
   "file_extension": ".py",
   "mimetype": "text/x-python",
   "name": "python",
   "nbconvert_exporter": "python",
   "pygments_lexer": "ipython3",
   "version": "3.10.6"
  },
  "orig_nbformat": 4,
  "vscode": {
   "interpreter": {
    "hash": "aee8b7b246df8f9039afb4144a1f6fd8d2ca17a180786b69acc140d282b71a49"
   }
  }
 },
 "nbformat": 4,
 "nbformat_minor": 2
}
