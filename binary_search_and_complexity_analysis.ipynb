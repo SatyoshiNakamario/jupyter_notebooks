{
 "cells": [
  {
   "cell_type": "markdown",
   "metadata": {},
   "source": [
    "binary search and complexity analysis\n",
    "\n",
    "Question:\n",
    "Alice has some cards with numbers written on them. She arranges the cards in decreasing order, \n",
    "and lays them out face down in a sequence on a table. \n",
    "She challenges Bob to pick ou the card containing a given number by turning over as few cards as possible. \n",
    "Write a function to help Bob locate the card."
   ]
  },
  {
   "cell_type": "code",
   "execution_count": null,
   "metadata": {},
   "outputs": [],
   "source": [
    "import math"
   ]
  },
  {
   "cell_type": "code",
   "execution_count": null,
   "metadata": {},
   "outputs": [],
   "source": [
    "def locate_card(cards, query):\n",
    "    pass"
   ]
  },
  {
   "cell_type": "markdown",
   "metadata": {},
   "source": [
    "Here is a test case."
   ]
  },
  {
   "cell_type": "code",
   "execution_count": null,
   "metadata": {},
   "outputs": [],
   "source": [
    "cards = [13, 11, 10, 7, 4, 3, 1, 0]\n",
    "query = 7\n",
    "output = 3"
   ]
  },
  {
   "cell_type": "code",
   "execution_count": null,
   "metadata": {},
   "outputs": [],
   "source": [
    "result = locate_card(cards, query)\n",
    "print(result)"
   ]
  },
  {
   "cell_type": "markdown",
   "metadata": {},
   "source": [
    "For comparison's sake:"
   ]
  },
  {
   "cell_type": "code",
   "execution_count": null,
   "metadata": {},
   "outputs": [],
   "source": [
    "result == output"
   ]
  },
  {
   "cell_type": "markdown",
   "metadata": {},
   "source": [
    "Represent test case keys as a dictionary. Test itself is not a dictionary. It must be equal to a set of dictionaries as follows. Input should contain a key to each argument in the function. Output will vary, depending on what is expected."
   ]
  },
  {
   "cell_type": "code",
   "execution_count": null,
   "metadata": {},
   "outputs": [],
   "source": [
    "test = {\n",
    "    'input': {\n",
    "        'cards':[13, 11, 10, 7, 4, 3, 1, 0],\n",
    "        'query': 7\n",
    "    },\n",
    "    'output':3\n",
    "}"
   ]
  },
  {
   "cell_type": "markdown",
   "metadata": {},
   "source": [
    "The test  can be passed at any time for the rest of your "
   ]
  },
  {
   "cell_type": "code",
   "execution_count": null,
   "metadata": {},
   "outputs": [],
   "source": [
    "#test code with the following function\n",
    "locate_card(**test['input']) == test['output']"
   ]
  },
  {
   "cell_type": "markdown",
   "metadata": {},
   "source": [
    "Here will will add a dictionary and code tests to add to the end of the tests dictionary:"
   ]
  },
  {
   "cell_type": "code",
   "execution_count": null,
   "metadata": {},
   "outputs": [],
   "source": [
    "tests = []"
   ]
  },
  {
   "cell_type": "code",
   "execution_count": null,
   "metadata": {},
   "outputs": [],
   "source": [
    "#if query occurs in the middle\n",
    "tests.append(test)\n",
    "\n",
    "tests.append({\n",
    "    'input':{\n",
    "        'cards': [13, 11, 10, 7,4,3,1,0],\n",
    "        'query': 1\n",
    "    },\n",
    "    'output': 6\n",
    "})"
   ]
  },
  {
   "cell_type": "code",
   "execution_count": null,
   "metadata": {},
   "outputs": [],
   "source": [
    "#if query is first element\n",
    "tests.append(test)\n",
    "\n",
    "tests.append({\n",
    "    'input': {\n",
    "        'cards': [13, 11, 10, 7, 4, 3, 1, 0],\n",
    "        'query': 1\n",
    "    },\n",
    "'output':6\n",
    "})"
   ]
  },
  {
   "cell_type": "code",
   "execution_count": null,
   "metadata": {},
   "outputs": [],
   "source": [
    "#if query is the last element\n",
    "tests.append({\n",
    "    'input':{\n",
    "        'cards':[3, -1. -9, -127],\n",
    "        'query': -127\n",
    "    },\n",
    "    'output': 3\n",
    "})"
   ]
  },
  {
   "cell_type": "code",
   "execution_count": null,
   "metadata": {},
   "outputs": [],
   "source": [
    "#if there is no card\n",
    "tests.append({\n",
    "    'input': {\n",
    "        'cards': [9,7,5,2,-9],\n",
    "        'query': 4\n",
    "    },\n",
    "    'output': -1\n",
    "})"
   ]
  },
  {
   "cell_type": "code",
   "execution_count": null,
   "metadata": {},
   "outputs": [],
   "source": [
    "#if there is one element\n",
    "tests.append({\n",
    "    'input':{\n",
    "        'cards': [6],\n",
    "        'query': 6\n",
    "    },\n",
    "    'ouput': 0\n",
    "})"
   ]
  },
  {
   "cell_type": "markdown",
   "metadata": {},
   "source": [
    "Remember to read problems carefully and consider test cases like these. Look through examples and ask for clarification in interviews. Now check out how many test cases that we created by calling tests like so:"
   ]
  },
  {
   "cell_type": "code",
   "execution_count": null,
   "metadata": {},
   "outputs": [],
   "source": [
    "tests"
   ]
  },
  {
   "cell_type": "code",
   "execution_count": null,
   "metadata": {},
   "outputs": [],
   "source": [
    "def binary_search(lo, hi, condition):\n",
    "    while lo <= hi:\n",
    "        mid = (lo + hi)/2 \n",
    "        result = condition(mid)\n",
    "        if result == 'found':\n",
    "            return mid\n",
    "        elif result == 'left':\n",
    "            hi = mid-1\n",
    "        else: \n",
    "            lo = mid+1\n",
    "    return -1\n"
   ]
  },
  {
   "cell_type": "markdown",
   "metadata": {},
   "source": [
    "Following a generic binary search tree methodology, here's an example of how to use it to search in a sequence of cards:"
   ]
  },
  {
   "cell_type": "code",
   "execution_count": null,
   "metadata": {},
   "outputs": [],
   "source": [
    "def locate_card(cards, query):\n",
    "\n",
    "    def condition(mid):\n",
    "        if cards[mid] == query:\n",
    "            if mid > 0 and cards [mid-1] == query:\n",
    "                return 'left'\n",
    "            else:\n",
    "                return 'found'\n",
    "        elif cards [mid] < query:\n",
    "            return 'left'\n",
    "        else: \n",
    "            return 'right'\n",
    "        return binary_search(0, len(cards) - 1, condition)\n"
   ]
  },
  {
   "cell_type": "markdown",
   "metadata": {},
   "source": [
    "The inner function can access the variables within the previous functions. What's really interesting is that the following two code blocks follow freeCodeCamp's Data Structures and algorithms course exactly, although there must be a slight error since the first code block does not print, and the second one was written before the first in the tutorial, although I could only get it to run if I ran it after the locate_card code block. \n",
    "\n",
    "It still has a traceback error at this point if you'd like to figure out what is wrong with it, however, the tests do print, and so I moved on."
   ]
  },
  {
   "cell_type": "code",
   "execution_count": null,
   "metadata": {},
   "outputs": [],
   "source": [
    "def locate_card(cards, query):\n",
    "    position = 0\n",
    "    \n",
    "    print('cards:', cards)\n",
    "    print('query', query)\n",
    "\n",
    "    while True:\n",
    "        print('position', position)\n",
    "\n",
    "        if cards[position] == query:\n",
    "            return position\n",
    "        \n",
    "        position += 1\n",
    "        if position == len(cards):\n",
    "            return -1"
   ]
  },
  {
   "cell_type": "code",
   "execution_count": null,
   "metadata": {},
   "outputs": [],
   "source": [
    "for test in tests:\n",
    "    print(locate_card(**test['input']) == test['output'])"
   ]
  },
  {
   "cell_type": "markdown",
   "metadata": {},
   "source": [
    "Optimized methodology with a low, high and mid position:"
   ]
  },
  {
   "cell_type": "code",
   "execution_count": null,
   "metadata": {},
   "outputs": [],
   "source": [
    "def locate_card(cards, query):\n",
    "    lo, hi = 0, len(cards) - 1\n",
    "\n",
    "    while lo <= hi:\n",
    "        mid = (lo + hi)// 2\n",
    "        mid_number = cards[mid]\n",
    "\n",
    "        print(\"lo:\", lo, \", hi:\" ,hi, \", mid\", mid, \"mid_number:\", mid_number)\n",
    "\n",
    "        if mid_number == query:\n",
    "            return mid\n",
    "        elif mid_number < query:\n",
    "            hi = mid - 1\n",
    "        elif mid_number > query:\n",
    "            lo = mid + 1\n",
    "    return -1\n",
    "locate_card(cards, query)\n"
   ]
  },
  {
   "cell_type": "markdown",
   "metadata": {},
   "source": [
    "I added a call to the end of the optimized, linear search methodology in order to see the print statement. \n",
    "\n",
    "The while loop will only execute when we do have a list since the low number will be less than or equal to the high (when there is no list, it'll return -1). If you follow with the Jovian library, you can import their libraries and use the evaluate_test_cases function to test this. It'll pass 6 of 7 tests. Additionally, you can go back and check if the middle element is the first occurance of the number. The mid must be the first or the only position where the query occurs.\n",
    "\n",
    "We want to create a helper function. Before that, here's a tip.\n",
    "\n",
    "Tip: keep your code around 7-10 lines of code, because that's about all the brain can handle. Break your code into smaller functions. As the reactive programming addage goes, \"Great programmers write baby code.\" Write with as few lines and as little logic as possible.\n",
    "\n",
    "Let's see what a test_location function will look like and how it'll help us:"
   ]
  },
  {
   "cell_type": "code",
   "execution_count": null,
   "metadata": {},
   "outputs": [],
   "source": [
    "def test_location(cards, query, mid):\n",
    "    mid_number = cards[mid]\n",
    "    print(\"mid:\", mid, \", mid_number:\", mid_number)\n",
    "    if mid_number == query:\n",
    "        if mid-1 >= 0 and cards [mid-1] == query:\n",
    "            return 'left'\n",
    "        else:\n",
    "            return 'found'\n",
    "    elif mid_number < query:\n",
    "        return 'left'\n",
    "    else:\n",
    "        return 'right'\n",
    "\n",
    "def locate_card(cards, query):\n",
    "    lo, hi = 0, len(cards) - 1\n",
    "\n",
    "    while lo<= hi:\n",
    "        print(\"lo:\", lo, \"hi:\", hi)\n",
    "        mid = (lo + hi)//2\n",
    "        result = test_location(cards, query, mid)\n",
    "\n",
    "        if result == 'found':\n",
    "            return mid\n",
    "        elif result == 'left':\n",
    "            hi = mid - 1\n",
    "        elif result == 'right':\n",
    "            hi = mid+ 1\n",
    "    return -1\n",
    "\n",
    "locate_card(cards, query)"
   ]
  },
  {
   "cell_type": "markdown",
   "metadata": {},
   "source": [
    "This helps with readability and passes all test cases now. We should make the evaluate test case function to ensure that the changes are correct and iterate through the test cases that were presented above. Let's look at the same problem while using the generic binary search from [82] in this notebook. Reproducing the code here:"
   ]
  },
  {
   "cell_type": "code",
   "execution_count": null,
   "metadata": {},
   "outputs": [],
   "source": [
    "def binary_search(lo, hi, condition):\n",
    "    while lo <= hi:\n",
    "        mid = (lo + hi)/2 \n",
    "        result = condition(mid)\n",
    "        if result == 'found':\n",
    "            return mid\n",
    "        elif result == 'left':\n",
    "            hi = mid-1\n",
    "        else: \n",
    "            lo = mid+1\n",
    "    return -1"
   ]
  },
  {
   "cell_type": "code",
   "execution_count": null,
   "metadata": {},
   "outputs": [],
   "source": [
    "def locate_card(cards, query):\n",
    "    def condition(mid):\n",
    "        if cards[mid] == query:\n",
    "            if mid > 0 and cards[mid -1] == query:\n",
    "                return 'left'\n",
    "            else:\n",
    "                return 'found'\n",
    "        elif cards[mid] < query:\n",
    "            return 'left'\n",
    "        else:\n",
    "            return 'right'\n",
    "    return binary_search(0, len(cards) - 1, condition)"
   ]
  },
  {
   "cell_type": "markdown",
   "metadata": {},
   "source": [
    "Now we can see the inner function accessing the variables within the outer function. We would want to test this with all of our test cases from above. From the Jovian source code:"
   ]
  },
  {
   "cell_type": "code",
   "execution_count": null,
   "metadata": {},
   "outputs": [],
   "source": [
    "def evaluate_test_cases(function, test_cases, error_only=False):\n",
    "    results = []\n",
    "    for i, test_case in enumerate(test_cases):\n",
    "        if not error_only:\n",
    "            print(\"\\n\\033[1mTEST CASE #{}\\033[0m\".format(i))\n",
    "        result = evaluate_test_case(function, test_case, display=False)\n",
    "        results.append(result)\n",
    "        if error_only and not result[1]:\n",
    "            print(\"\\n\\033[1mTEST CASE #{}\\033[0m\".format(i))\n",
    "        if not error_only or not result[1]:\n",
    "            _show_test_case(test_case)\n",
    "            _show_result(result)\n",
    "\n",
    "    total = len(results)\n",
    "    num_passed = sum([r[1] for r in results])\n",
    "    print(\"\\n\\033[1mSUMMARY\\033[0m\")\n",
    "    print(\"\\nTOTAL: {}, \\033[92mPASSED\\033[0m: {}, \\033[91mFAILED\\033[0m: {}\".format(\n",
    "        total, num_passed, total - num_passed))\n",
    "    return results"
   ]
  },
  {
   "cell_type": "markdown",
   "metadata": {},
   "source": [
    "Testing is where the real fun begins. Watch our efforts and kick back. This is a job well done:"
   ]
  },
  {
   "cell_type": "code",
   "execution_count": null,
   "metadata": {},
   "outputs": [],
   "source": [
    "evaluate_test_cases(locate_card, tests)"
   ]
  },
  {
   "cell_type": "markdown",
   "metadata": {},
   "source": [
    "Or it should have worked. Unfortunately, the notebook does not think the function is defined, even though it runs correctly before it is called. Looks like we also have to define a function inside that function, evaluate_test_case. Lets do that below and try again:"
   ]
  },
  {
   "cell_type": "code",
   "execution_count": null,
   "metadata": {},
   "outputs": [],
   "source": [
    "def evaluate_test_case(function, test_case, display=True):\n",
    "    \"\"\"Check if `function` works as expected for `test_case`\"\"\"\n",
    "    inputs = test_case['input']\n",
    "\n",
    "    if display:\n",
    "        _show_test_case(test_case)\n",
    "\n",
    "    start = timer()\n",
    "    actual_output = function(**inputs)\n",
    "    end = timer()\n",
    "\n",
    "    runtime = math.ceil((end - start)*1e6)/1000\n",
    "    if 'outputs' in test_case:\n",
    "        passed = actual_output in test_case.get('outputs')\n",
    "    else:\n",
    "        passed = actual_output == test_case.get('output')\n",
    "\n",
    "    result = actual_output, passed, runtime\n",
    "\n",
    "    if display:\n",
    "        _show_result(result)\n",
    "\n",
    "    return result\n"
   ]
  },
  {
   "cell_type": "markdown",
   "metadata": {},
   "source": [
    "Still some problems, because this is very detailed source code that was glossed over in the lesson. Turns out that we need to define a few more functions before evaluating test cases:"
   ]
  },
  {
   "cell_type": "code",
   "execution_count": null,
   "metadata": {},
   "outputs": [],
   "source": [
    "from timeit import default_timer as timer\n",
    "from textwrap import dedent\n",
    "import math\n",
    "\n",
    "\n",
    "from timeit import default_timer as timer\n",
    "from textwrap import dedent\n",
    "import math\n",
    "\n",
    "\n",
    "def _str_trunc(data, size=100):\n",
    "    data_str = str(data)\n",
    "    if len(data_str) > size + 3:\n",
    "        return data_str[:size] + '...'\n",
    "    return data_str\n",
    "\n",
    "\n",
    "def _show_test_case(test_case):\n",
    "    inputs = test_case['input']\n",
    "\n",
    "    if 'outputs' in test_case:\n",
    "        expected_text = \"Outputs\"\n",
    "        expected = test_case.get('outputs')\n",
    "    else:\n",
    "        expected_text = \"Output\"\n",
    "        expected = test_case.get('output')\n",
    "\n",
    "    print(dedent(\"\"\"\n",
    "    Input:\n",
    "    {}\n",
    "    Expected {}:\n",
    "    {}\n",
    "    \"\"\".format(_str_trunc(inputs), expected_text, _str_trunc(expected))))\n",
    "\n",
    "\n",
    "def _show_result(result):\n",
    "    actual_output, passed, runtime = result\n",
    "    message = \"\\033[92mPASSED\\033[0m\" if passed else \"\\033[91mFAILED\\033[0m\"\n",
    "    print(dedent(\"\"\"\n",
    "    Actual Output:\n",
    "    {}\n",
    "    Execution Time:\n",
    "    {} ms\n",
    "    Test Result:\n",
    "    {}\n",
    "    \"\"\".format(_str_trunc(actual_output), runtime, message)))"
   ]
  },
  {
   "cell_type": "code",
   "execution_count": null,
   "metadata": {},
   "outputs": [],
   "source": [
    "evaluate_test_cases(locate_card, tests)"
   ]
  },
  {
   "cell_type": "markdown",
   "metadata": {},
   "source": [
    "At this point, it still wouldn't work, because the imports require parts of other libraries, so we break down and install jovian with the following code in terminal:"
   ]
  },
  {
   "cell_type": "markdown",
   "metadata": {},
   "source": [
    "!pip install jovian --upgrade --quiet\n",
    "\n",
    "Then you can import like so:"
   ]
  },
  {
   "cell_type": "code",
   "execution_count": null,
   "metadata": {},
   "outputs": [],
   "source": [
    "from jovian.pythondsa import evaluate_test_case"
   ]
  },
  {
   "cell_type": "markdown",
   "metadata": {},
   "source": [
    "And now everything works happily above. Still great to dissect the complicated functions inside the evaluate test case library, so I'll leave it. At this point, everything can be used to solve other problems. Try this one:\n",
    "\n",
    "Q: given an array of ins sortes in ascending order, find the starting and ending position of a given number.\n",
    "\n",
    "Here the numbers are sorted and we're looking for the start and end index. We should do binary search once to find the first position. Instead of checking the left to find the first position, last posistion will check the right. Finally, we'll want to define and call them both at the same time to get a time complexity of logN."
   ]
  },
  {
   "cell_type": "code",
   "execution_count": 155,
   "metadata": {},
   "outputs": [],
   "source": [
    "def first_position(nums, target):\n",
    "    def condition(mid):\n",
    "        if nums[mid] == target:\n",
    "            if mid > 0 and nums[mid-1] == target:\n",
    "                return 'left'\n",
    "            return 'found'\n",
    "        if nums[mid] < target:\n",
    "            return 'right'\n",
    "        if nums[mid] > target:\n",
    "            return 'left'\n",
    "        return binary_search(0, len(nums) -1, condition)\n",
    "\n",
    "def last_position(nums, target):\n",
    "    def condition(mid):\n",
    "        if nums[mid] == target:\n",
    "            if mid < len(nums) -1 and nums[mid + 1] == target:\n",
    "                return 'right'\n",
    "            return 'found'\n",
    "        elif nums [mid] < target:\n",
    "            return 'right'\n",
    "        else:\n",
    "            return 'left'\n",
    "    return binary_search(0, len(nums) - 1, condition)"
   ]
  },
  {
   "cell_type": "markdown",
   "metadata": {},
   "source": [
    "We were able to reuse the code. If you are practicing on a website, you'll find similar problems where this strategy can be applied. \n",
    "\n",
    "Generically, apply this strategy\n",
    "\n",
    "    1. State the problem clearly. Identify input/output formats.\n",
    "    2. Come up with example IOs. Cover all edge cases.\n",
    "    3. Find a brute force or simple solution. State it in english.\n",
    "    4. Impliment it with test cases. Fix any bugs.\n",
    "    5. Analyze the algorithm's complexity and identify any inefficiencies.\n",
    "    6. Apply the correct technique to reduce inefficiencies.\n",
    "\n",
    "This will help you solve any problem if you have the right tools and mind at your disposal. It'll take years of practice. Don't give up. It'll become second nature if you persist!"
   ]
  }
 ],
 "metadata": {
  "kernelspec": {
   "display_name": "Python 3.6.5 ('base')",
   "language": "python",
   "name": "python3"
  },
  "language_info": {
   "codemirror_mode": {
    "name": "ipython",
    "version": 3
   },
   "file_extension": ".py",
   "mimetype": "text/x-python",
   "name": "python",
   "nbconvert_exporter": "python",
   "pygments_lexer": "ipython3",
   "version": "3.6.5"
  },
  "orig_nbformat": 4,
  "vscode": {
   "interpreter": {
    "hash": "e435fd2d37801b058f3cea4d8cf91694b48a1687109635a6cbdf88b201d8c468"
   }
  }
 },
 "nbformat": 4,
 "nbformat_minor": 2
}
